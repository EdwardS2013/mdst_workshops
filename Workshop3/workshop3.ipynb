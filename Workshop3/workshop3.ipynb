{
 "cells": [
  {
   "cell_type": "code",
   "execution_count": 1,
   "metadata": {},
   "outputs": [],
   "source": [
    "import pandas as pd\n",
    "import matplotlib.pyplot as plt\n",
    "import scipy.stats as stats"
   ]
  },
  {
   "cell_type": "code",
   "execution_count": 4,
   "metadata": {},
   "outputs": [
    {
     "data": {
      "text/html": [
       "<div>\n",
       "<style scoped>\n",
       "    .dataframe tbody tr th:only-of-type {\n",
       "        vertical-align: middle;\n",
       "    }\n",
       "\n",
       "    .dataframe tbody tr th {\n",
       "        vertical-align: top;\n",
       "    }\n",
       "\n",
       "    .dataframe thead th {\n",
       "        text-align: right;\n",
       "    }\n",
       "</style>\n",
       "<table border=\"1\" class=\"dataframe\">\n",
       "  <thead>\n",
       "    <tr style=\"text-align: right;\">\n",
       "      <th></th>\n",
       "      <th>ID</th>\n",
       "      <th>AdmissionLengthDays</th>\n",
       "      <th>Death_1</th>\n",
       "      <th>Admission_Type</th>\n",
       "      <th>Insurance_Type</th>\n",
       "      <th>EnglishLanguage_1</th>\n",
       "      <th>Religion_Type</th>\n",
       "      <th>Married_1</th>\n",
       "      <th>Race</th>\n",
       "      <th>Dx</th>\n",
       "    </tr>\n",
       "  </thead>\n",
       "  <tbody>\n",
       "    <tr>\n",
       "      <th>0</th>\n",
       "      <td>42862</td>\n",
       "      <td>4.277778</td>\n",
       "      <td>0</td>\n",
       "      <td>elective</td>\n",
       "      <td>private</td>\n",
       "      <td>1</td>\n",
       "      <td>episcopalian</td>\n",
       "      <td>1</td>\n",
       "      <td>white</td>\n",
       "      <td>mitral stenosis\\mitral valve replacement /sda</td>\n",
       "    </tr>\n",
       "    <tr>\n",
       "      <th>1</th>\n",
       "      <td>5967</td>\n",
       "      <td>26.122917</td>\n",
       "      <td>0</td>\n",
       "      <td>elective</td>\n",
       "      <td>private</td>\n",
       "      <td>0</td>\n",
       "      <td>catholic</td>\n",
       "      <td>1</td>\n",
       "      <td>white</td>\n",
       "      <td>duodenal mass/sda</td>\n",
       "    </tr>\n",
       "    <tr>\n",
       "      <th>2</th>\n",
       "      <td>50952</td>\n",
       "      <td>7.028472</td>\n",
       "      <td>1</td>\n",
       "      <td>emergency</td>\n",
       "      <td>medicare</td>\n",
       "      <td>1</td>\n",
       "      <td>catholic</td>\n",
       "      <td>0</td>\n",
       "      <td>asian - japanese</td>\n",
       "      <td>? serotonin syndrome</td>\n",
       "    </tr>\n",
       "    <tr>\n",
       "      <th>3</th>\n",
       "      <td>17138</td>\n",
       "      <td>34.187500</td>\n",
       "      <td>0</td>\n",
       "      <td>elective</td>\n",
       "      <td>medicare</td>\n",
       "      <td>1</td>\n",
       "      <td>catholic</td>\n",
       "      <td>1</td>\n",
       "      <td>white</td>\n",
       "      <td>abdominal aortic aneurysm/sda</td>\n",
       "    </tr>\n",
       "    <tr>\n",
       "      <th>4</th>\n",
       "      <td>27703</td>\n",
       "      <td>6.165972</td>\n",
       "      <td>0</td>\n",
       "      <td>elective</td>\n",
       "      <td>government</td>\n",
       "      <td>0</td>\n",
       "      <td>protestant quaker</td>\n",
       "      <td>0</td>\n",
       "      <td>black/african american</td>\n",
       "      <td>absence/sda</td>\n",
       "    </tr>\n",
       "  </tbody>\n",
       "</table>\n",
       "</div>"
      ],
      "text/plain": [
       "      ID  AdmissionLengthDays  Death_1 Admission_Type Insurance_Type  \\\n",
       "0  42862             4.277778        0       elective        private   \n",
       "1   5967            26.122917        0       elective        private   \n",
       "2  50952             7.028472        1      emergency       medicare   \n",
       "3  17138            34.187500        0       elective       medicare   \n",
       "4  27703             6.165972        0       elective     government   \n",
       "\n",
       "   EnglishLanguage_1      Religion_Type  Married_1                    Race  \\\n",
       "0                  1       episcopalian          1                   white   \n",
       "1                  0           catholic          1                   white   \n",
       "2                  1           catholic          0        asian - japanese   \n",
       "3                  1           catholic          1                   white   \n",
       "4                  0  protestant quaker          0  black/african american   \n",
       "\n",
       "                                                Dx  \n",
       "0    mitral stenosis\\mitral valve replacement /sda  \n",
       "1                                duodenal mass/sda  \n",
       "2                             ? serotonin syndrome  \n",
       "3                    abdominal aortic aneurysm/sda  \n",
       "4                                      absence/sda  "
      ]
     },
     "execution_count": 4,
     "metadata": {},
     "output_type": "execute_result"
    }
   ],
   "source": [
    "df = pd.read_csv(\"HospitalAdmissionsData.csv\")\n",
    "df.head()"
   ]
  },
  {
   "cell_type": "code",
   "execution_count": 6,
   "metadata": {},
   "outputs": [
    {
     "data": {
      "text/plain": [
       "Index(['ID', 'AdmissionLengthDays', 'Death_1', 'Admission_Type',\n",
       "       'Insurance_Type', 'EnglishLanguage_1', 'Religion_Type', 'Married_1',\n",
       "       'Race', 'Dx'],\n",
       "      dtype='object')"
      ]
     },
     "execution_count": 6,
     "metadata": {},
     "output_type": "execute_result"
    }
   ],
   "source": [
    "# What are the column headers or features in this data set?\n",
    "df.columns"
   ]
  },
  {
   "cell_type": "code",
   "execution_count": 22,
   "metadata": {},
   "outputs": [
    {
     "name": "stdout",
     "output_type": "stream",
     "text": [
      "int64\n",
      "float64\n",
      "int64\n",
      "object\n",
      "object\n",
      "int64\n",
      "object\n",
      "int64\n",
      "object\n",
      "object\n",
      "1\n",
      "4\n"
     ]
    }
   ],
   "source": [
    "# How many features are floats? How many are integers?\n",
    "float_count = 0\n",
    "int_count = 0\n",
    "obj_count = 0\n",
    "for i in list(df.dtypes):\n",
    "    print(i)\n",
    "    float_count += (i == \"float64\")\n",
    "    int_count += (i == \"int64\")\n",
    "    obj_count += (i == \"object\")\n",
    "print(float_count)\n",
    "print(int_count)"
   ]
  },
  {
   "cell_type": "code",
   "execution_count": 23,
   "metadata": {},
   "outputs": [
    {
     "name": "stdout",
     "output_type": "stream",
     "text": [
      "5\n"
     ]
    }
   ],
   "source": [
    "# Which features are objects (non-numeric variables)?\n",
    "print(obj_count)"
   ]
  },
  {
   "cell_type": "code",
   "execution_count": 24,
   "metadata": {},
   "outputs": [
    {
     "data": {
      "text/plain": [
       "array(['private', 'medicare', 'government', 'medicaid', 'self pay'],\n",
       "      dtype=object)"
      ]
     },
     "execution_count": 24,
     "metadata": {},
     "output_type": "execute_result"
    }
   ],
   "source": [
    "# What are the possible 'values' for insurance type?\n",
    "df[\"Insurance_Type\"].unique()"
   ]
  },
  {
   "cell_type": "code",
   "execution_count": 25,
   "metadata": {},
   "outputs": [
    {
     "data": {
      "text/plain": [
       "DescribeResult(nobs=58863, minmax=(-0.9451388890000001, 294.6604167), mean=10.13897774871043, variance=155.39145743335578, skewness=4.547507703001167, kurtosis=34.91875973033303)"
      ]
     },
     "execution_count": 25,
     "metadata": {},
     "output_type": "execute_result"
    }
   ],
   "source": [
    "# Show the summary statistics for the admission length.\n",
    "stats.describe(df[\"AdmissionLengthDays\"])"
   ]
  },
  {
   "cell_type": "code",
   "execution_count": 31,
   "metadata": {},
   "outputs": [
    {
     "name": "stdout",
     "output_type": "stream",
     "text": [
      "admission type: ModeResult(mode=array(['emergency'], dtype=object), count=array([41987]))\n",
      "insurance type: ModeResult(mode=array(['medicare'], dtype=object), count=array([28157]))\n",
      "religion type: ModeResult(mode=array(['catholic'], dtype=object), count=array([20561]))\n",
      "race: ModeResult(mode=array(['white'], dtype=object), count=array([40927]))\n",
      "diagnosis: ModeResult(mode=array(['newborn'], dtype=object), count=array([7823]))\n"
     ]
    }
   ],
   "source": [
    "# What is the most common admission type, insurance type, religion type, race, and diagnosis (Dx)?\n",
    "print(\"admission type:\", stats.mode(df[\"Admission_Type\"].to_numpy()))\n",
    "print(\"insurance type:\", stats.mode(df[\"Insurance_Type\"].to_numpy()))\n",
    "print(\"religion type:\", stats.mode(df[\"Religion_Type\"].to_numpy()))\n",
    "print(\"race:\", stats.mode(df[\"Race\"].to_numpy()))\n",
    "print(\"diagnosis:\", stats.mode(df[\"Dx\"].to_numpy()))"
   ]
  },
  {
   "cell_type": "code",
   "execution_count": 43,
   "metadata": {},
   "outputs": [
    {
     "name": "stdout",
     "output_type": "stream",
     "text": [
      "The histogram using a log scale appears to be more spread out.\n"
     ]
    },
    {
     "data": {
      "image/png": "[encoded data removed]",
      "text/plain": [
       "<Figure size 432x288 with 1 Axes>"
      ]
     },
     "metadata": {
      "needs_background": "light"
     },
     "output_type": "display_data"
    },
    {
     "data": {
      "image/png": "[encoded data removed]",
      "text/plain": [
       "<Figure size 432x288 with 1 Axes>"
      ]
     },
     "metadata": {
      "needs_background": "light"
     },
     "output_type": "display_data"
    }
   ],
   "source": [
    "# Show a histogram for admission days (with appropriate labels, titles, etc), \n",
    "# and also show a histogram for admission days on a log scale. Describe what you see.\n",
    "no_log = plt.figure(1)\n",
    "plt.hist(df[\"AdmissionLengthDays\"])\n",
    "plt.title(\"Histogram of admission days\")\n",
    "plt.xlabel(\"Days\")\n",
    "plt.ylabel(\"Frequency\")\n",
    "no_log.show()\n",
    "\n",
    "log = plt.figure(2)\n",
    "plt.hist(df[\"AdmissionLengthDays\"], log=True)\n",
    "plt.title(\"Histogram of admission days\")\n",
    "plt.xlabel(\"Days\")\n",
    "plt.ylabel(\"Frequency\")\n",
    "log.show()\n",
    "\n",
    "print(\"The histogram using a log scale appears to be more spread out.\")"
   ]
  },
  {
   "cell_type": "code",
   "execution_count": 54,
   "metadata": {},
   "outputs": [
    {
     "data": {
      "text/plain": [
       "Text(0.5, 1.0, 'Boxplot of admission length\\nwith death')"
      ]
     },
     "execution_count": 54,
     "metadata": {},
     "output_type": "execute_result"
    },
    {
     "data": {
      "image/png": "[encoded data removed]",
      "text/plain": [
       "<Figure size 432x288 with 2 Axes>"
      ]
     },
     "metadata": {
      "needs_background": "light"
     },
     "output_type": "display_data"
    }
   ],
   "source": [
    "# Compare the average length of admission between those who died versus those who did not die. \n",
    "# Show a visualization, with appropriate labels, titles, etc.\n",
    "fig, axes = plt.subplots(ncols = 2, sharey = True)\n",
    "axes[0].boxplot(df[df[\"Death_1\"] == 0][\"AdmissionLengthDays\"], 0, '')\n",
    "axes[0].set_title(\"Boxplot of admission length\\nwithout death\")\n",
    "axes[1].boxplot(df[df[\"Death_1\"] == 1][\"AdmissionLengthDays\"], 0, '')\n",
    "axes[1].set_title(\"Boxplot of admission length\\nwith death\")"
   ]
  },
  {
   "cell_type": "code",
   "execution_count": 69,
   "metadata": {},
   "outputs": [
    {
     "name": "stdout",
     "output_type": "stream",
     "text": [
      "Insurance_Type\n",
      "government    0.050533\n",
      "medicaid      0.065906\n",
      "medicare      0.138651\n",
      "private       0.061330\n",
      "self pay      0.155738\n",
      "Name: Death_1, dtype: float64\n"
     ]
    },
    {
     "data": {
      "text/plain": [
       "([<matplotlib.axis.XTick at 0x11fb5eef0>,\n",
       "  <matplotlib.axis.XTick at 0x11b1f8780>,\n",
       "  <matplotlib.axis.XTick at 0x11b1f89e8>,\n",
       "  <matplotlib.axis.XTick at 0x11a9feeb8>,\n",
       "  <matplotlib.axis.XTick at 0x11ff603c8>],\n",
       " <a list of 5 Text xticklabel objects>)"
      ]
     },
     "execution_count": 69,
     "metadata": {},
     "output_type": "execute_result"
    },
    {
     "data": {
      "image/png": "[encoded data removed]",
      "text/plain": [
       "<Figure size 432x288 with 1 Axes>"
      ]
     },
     "metadata": {
      "needs_background": "light"
     },
     "output_type": "display_data"
    }
   ],
   "source": [
    "# Describe the association between death and insurance type and show a visualization or test.\n",
    "types = df.groupby(\"Insurance_Type\")\n",
    "print(types.mean()[\"Death_1\"])\n",
    "plt.bar([0,1,2,3,4],types.mean()[\"Death_1\"])\n",
    "plt.title(\"Bar chart of average deaths by insurance type\")\n",
    "plt.xticks([0,1,2,3,4], (\"government\",\"medicaid\",\"medicare\",\"private\",\"self pay\"))"
   ]
  }
 ],
 "metadata": {
  "kernelspec": {
   "display_name": "Python 3",
   "language": "python",
   "name": "python3"
  },
  "language_info": {
   "codemirror_mode": {
    "name": "ipython",
    "version": 3
   },
   "file_extension": ".py",
   "mimetype": "text/x-python",
   "name": "python",
   "nbconvert_exporter": "python",
   "pygments_lexer": "ipython3",
   "version": "3.6.1"
  }
 },
 "nbformat": 4,
 "nbformat_minor": 2
}
